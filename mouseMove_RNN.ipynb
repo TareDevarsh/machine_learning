{
  "nbformat": 4,
  "nbformat_minor": 0,
  "metadata": {
    "colab": {
      "provenance": []
    },
    "kernelspec": {
      "name": "python3",
      "display_name": "Python 3"
    },
    "accelerator": "TPU"
  },
  "cells": [
    {
      "cell_type": "markdown",
      "metadata": {
        "id": "view-in-github"
      },
      "source": [
        "<a href=\"https://colab.research.google.com/github/TareDevarsh/machine_learning/blob/master/Stock_market_RNN.ipynb\" target=\"_parent\"><img src=\"https://colab.research.google.com/assets/colab-badge.svg\" alt=\"Open In Colab\"/></a>"
      ]
    },
    {
      "cell_type": "code",
      "metadata": {
        "id": "h-vPo1xkhPoq"
      },
      "source": [
        "import math\n",
        "from datetime import datetime\n",
        "import re\n",
        "import numpy as np\n",
        "import pandas as pd\n",
        "from sklearn.preprocessing import MinMaxScaler\n",
        "from keras.models import Sequential\n",
        "from keras.layers import Dense, LSTM\n",
        "import matplotlib.pyplot as plt\n",
        "plt.style.use('fivethirtyeight')\n"
      ],
      "execution_count": null,
      "outputs": []
    },
    {
      "cell_type": "code",
      "metadata": {
        "id": "SR3FSeIiJz0H"
      },
      "source": [
        "with open('mouse_log.txt') as f:\n",
        "    lines = f.readlines()"
      ],
      "execution_count": null,
      "outputs": []
    },
    {
      "cell_type": "code",
      "metadata": {
        "id": "-2lC9pYrK1Zj",
        "colab": {
          "base_uri": "https://localhost:8080/"
        },
        "outputId": "10a0421a-3db8-4eb7-8abe-aeebd6994e2c"
      },
      "source": [
        "print(len(lines))"
      ],
      "execution_count": null,
      "outputs": [
        {
          "output_type": "stream",
          "name": "stdout",
          "text": [
            "28206\n"
          ]
        }
      ]
    },
    {
      "cell_type": "code",
      "source": [
        "coordinatesTuple = []\n",
        "timeEpoch = []\n",
        "\n",
        "\n",
        "for i in range(len(lines)):\n",
        "  input_string = lines[i]\n",
        "\n",
        "  # Define a regular expression pattern\n",
        "  pattern = r'(\\d{4}-\\d{2}-\\d{2} \\d{2}:\\d{2}:\\d{2},\\d{3}):.*\\((\\d+,\\s*\\d+)\\)'\n",
        "\n",
        "  # Use re.search to find the matching groups in the string\n",
        "  match = re.search(pattern, input_string)\n",
        "\n",
        "  if match:\n",
        "      # Extract the matched groups\n",
        "      date_and_time = match.group(1)\n",
        "      coordinates = match.group(2)\n",
        "\n",
        "      timeEpoch.append(datetime.strptime(date_and_time, \"%Y-%m-%d %H:%M:%S,%f\").timestamp())\n",
        "      coordinatesTuple.append(list(map(int, re.findall(r'\\d+', coordinates))))\n",
        "  else:\n",
        "      continue\n",
        "\n"
      ],
      "metadata": {
        "id": "DxXmIAVPuGsp"
      },
      "execution_count": null,
      "outputs": []
    },
    {
      "cell_type": "code",
      "source": [
        "#Plot/Create the data for the graph\n",
        "train = df_close[:data_len]\n",
        "valid = df_close[data_len:]\n",
        "valid['Predictions'] = predictions\n",
        "#Visualize the data\n",
        "plt.figure(figsize=(20,10))\n",
        "plt.title('Apple Inc Market Prediction')\n",
        "plt.xlabel('Date', fontsize=18)\n",
        "plt.ylabel('Close Price USD ($)', fontsize=18)\n",
        "plt.plot(train['Close'])\n",
        "plt.plot(valid[['Close', 'Predictions']])\n",
        "plt.legend(['Trained', 'Actual Value', 'Predicted Value'], loc='lower right')\n",
        "plt.show()"
      ],
      "metadata": {
        "id": "PS_Us0MmAXEc"
      },
      "execution_count": null,
      "outputs": []
    },
    {
      "cell_type": "code",
      "source": [
        "scaler = MinMaxScaler(feature_range=(0,1))\n",
        "scaled_data = scaler.fit_transform(coordinatesTuple)\n",
        "\n",
        "scaled_data"
      ],
      "metadata": {
        "colab": {
          "base_uri": "https://localhost:8080/"
        },
        "id": "KPhts2e85-wR",
        "outputId": "6626bd15-f9a2-476f-be64-c95c5f9b7789"
      },
      "execution_count": null,
      "outputs": [
        {
          "output_type": "execute_result",
          "data": {
            "text/plain": [
              "array([[0.14064411, 0.36622655],\n",
              "       [0.14349776, 0.36692147],\n",
              "       [0.14961272, 0.37039611],\n",
              "       ...,\n",
              "       [0.13982878, 0.34746352],\n",
              "       [0.13982878, 0.34676859],\n",
              "       [0.13982878, 0.34607366]])"
            ]
          },
          "metadata": {},
          "execution_count": 6
        }
      ]
    },
    {
      "cell_type": "code",
      "metadata": {
        "id": "_a5M_PR4MO21"
      },
      "source": [
        "train_size = int(len(scaled_data) * 0.9)\n",
        "test_size = len(scaled_data) - train_size\n",
        "train, test = scaled_data[0:train_size], scaled_data[train_size:len(scaled_data)]"
      ],
      "execution_count": null,
      "outputs": []
    },
    {
      "cell_type": "code",
      "source": [
        "print(len(train),len(test))"
      ],
      "metadata": {
        "colab": {
          "base_uri": "https://localhost:8080/"
        },
        "id": "zC6JdeLv4SJS",
        "outputId": "004bd6f2-4f61-4f58-edf3-175a61b313f8"
      },
      "execution_count": null,
      "outputs": [
        {
          "output_type": "stream",
          "name": "stdout",
          "text": [
            "25385 2821\n"
          ]
        }
      ]
    },
    {
      "cell_type": "code",
      "metadata": {
        "id": "mbLS1M2IM9pi"
      },
      "source": [
        "x_train = []\n",
        "y_train = []\n",
        "\n",
        "for i in range(60, len(train)):\n",
        "    x_train.append(train[i-60:i])\n",
        "    y_train.append(train[i])\n",
        "\n",
        "# Convert x_train and y_train to numpy arrays if needed\n",
        "x_train = np.array(x_train)\n",
        "y_train = np.array(y_train)\n"
      ],
      "execution_count": null,
      "outputs": []
    },
    {
      "cell_type": "code",
      "source": [
        "x_train.shape[0], x_train.shape[1]"
      ],
      "metadata": {
        "colab": {
          "base_uri": "https://localhost:8080/"
        },
        "id": "OoApmllm8aTj",
        "outputId": "92d347a8-9c04-42e9-b5b9-12488a4e38b6"
      },
      "execution_count": null,
      "outputs": [
        {
          "output_type": "execute_result",
          "data": {
            "text/plain": [
              "(25325, 60)"
            ]
          },
          "metadata": {},
          "execution_count": 10
        }
      ]
    },
    {
      "cell_type": "code",
      "metadata": {
        "id": "eAazXmPSPB89",
        "colab": {
          "base_uri": "https://localhost:8080/"
        },
        "outputId": "136cd374-916d-4574-a14d-5d38e76739c0"
      },
      "source": [
        "input_shape = (x_train.shape[1], x_train.shape[2])\n",
        "\n",
        "x_train.shape\n"
      ],
      "execution_count": null,
      "outputs": [
        {
          "output_type": "execute_result",
          "data": {
            "text/plain": [
              "(25325, 60, 2)"
            ]
          },
          "metadata": {},
          "execution_count": 11
        }
      ]
    },
    {
      "cell_type": "code",
      "metadata": {
        "id": "syfNBdkeP3gm"
      },
      "source": [
        "model = Sequential()\n",
        "model.add(LSTM(100, return_sequences=True, input_shape=input_shape))\n",
        "model.add(LSTM(90, return_sequences=True))\n",
        "model.add(LSTM(60, return_sequences=True))  # Additional LSTM layer\n",
        "model.add(LSTM(40, return_sequences=True))  # Additional LSTM layer\n",
        "model.add(LSTM(25, return_sequences=False))\n",
        "model.add(Dense(25, activation='relu'))\n",
        "model.add(Dense(2))"
      ],
      "execution_count": null,
      "outputs": []
    },
    {
      "cell_type": "code",
      "metadata": {
        "id": "GGtYpKZkR2Z2"
      },
      "source": [
        "model.compile(optimizer= 'adam', loss='mean_squared_error')"
      ],
      "execution_count": null,
      "outputs": []
    },
    {
      "cell_type": "code",
      "metadata": {
        "id": "ivsfFkQFSKjA",
        "colab": {
          "base_uri": "https://localhost:8080/"
        },
        "outputId": "f6338657-01ce-4a46-8cb8-13a3d13bd5f6"
      },
      "source": [
        "model.fit(x_train, y_train, batch_size=1, epochs =5)"
      ],
      "execution_count": 14,
      "outputs": [
        {
          "output_type": "stream",
          "name": "stdout",
          "text": [
            "Epoch 1/5\n",
            "25325/25325 [==============================] - 3219s 127ms/step - loss: 0.0023\n",
            "Epoch 2/5\n",
            "25325/25325 [==============================] - 3081s 122ms/step - loss: 8.4258e-04\n",
            "Epoch 3/5\n",
            "25325/25325 [==============================] - 3143s 124ms/step - loss: 6.7666e-04\n",
            "Epoch 4/5\n",
            "25325/25325 [==============================] - 3127s 123ms/step - loss: 6.5491e-04\n",
            "Epoch 5/5\n",
            "25325/25325 [==============================] - 3083s 122ms/step - loss: 6.3116e-04\n"
          ]
        },
        {
          "output_type": "execute_result",
          "data": {
            "text/plain": [
              "<keras.src.callbacks.History at 0x7d2d99b25e40>"
            ]
          },
          "metadata": {},
          "execution_count": 14
        }
      ]
    },
    {
      "cell_type": "code",
      "source": [
        "test\n"
      ],
      "metadata": {
        "colab": {
          "base_uri": "https://localhost:8080/"
        },
        "id": "Eq9piLMx0ZD0",
        "outputId": "20521374-4783-4f30-bd28-d402d099037f"
      },
      "execution_count": null,
      "outputs": [
        {
          "output_type": "execute_result",
          "data": {
            "text/plain": [
              "array([[0.27668539, 0.0261115 ],\n",
              "       [0.2752809 , 0.02399435],\n",
              "       [0.27434457, 0.02187721],\n",
              "       ...,\n",
              "       [0.40121723, 0.34791814],\n",
              "       [0.40168539, 0.34791814],\n",
              "       [0.40215356, 0.34791814]])"
            ]
          },
          "metadata": {},
          "execution_count": 48
        }
      ]
    },
    {
      "cell_type": "code",
      "metadata": {
        "id": "h8wSARqlT7aJ"
      },
      "source": [
        "x_test = []\n",
        "y_test = test[60:]  # Assuming 'dataset' is your original data, and 'data_len' is the length of your training data\n",
        "\n",
        "for i in range(60, len(test)):\n",
        "    x_test.append(test[i-60:i, :])  # Assuming data_test has shape (690, 2)\n",
        "\n",
        "x_test = np.array(x_test)"
      ],
      "execution_count": 15,
      "outputs": []
    },
    {
      "cell_type": "code",
      "source": [
        "y_test.shape"
      ],
      "metadata": {
        "colab": {
          "base_uri": "https://localhost:8080/"
        },
        "id": "rsYZCWpCzPku",
        "outputId": "816ebf53-6964-4f13-c2a3-5ba23672cd23"
      },
      "execution_count": 22,
      "outputs": [
        {
          "output_type": "execute_result",
          "data": {
            "text/plain": [
              "(2761, 2)"
            ]
          },
          "metadata": {},
          "execution_count": 22
        }
      ]
    },
    {
      "cell_type": "code",
      "source": [
        "# Assuming you have predictions and y_test\n",
        "predictions = model.predict(x_test)\n",
        "\n",
        "# Print shapes for debugging\n",
        "print(\"predictions shape:\", predictions.shape)\n",
        "print(\"y_test shape:\", y_test.shape)\n",
        "\n",
        "# Inverse transform the scaled predictions\n",
        "predictions_original = scaler.inverse_transform(predictions)\n",
        "\n",
        "# Assuming your original data was 2D, reshape y_test to match predictions_original\n",
        "y_test_original = scaler.inverse_transform(y_test[:predictions.shape[0]].reshape(-1, 2))\n",
        "\n",
        "# Calculate RMSE\n",
        "rmse = np.sqrt(np.mean((predictions_original - y_test_original)**2))\n",
        "rmse"
      ],
      "metadata": {
        "colab": {
          "base_uri": "https://localhost:8080/"
        },
        "id": "VuDBK229zlWz",
        "outputId": "c4435b76-f821-4b07-8570-82470a58c70e"
      },
      "execution_count": 19,
      "outputs": [
        {
          "output_type": "stream",
          "name": "stdout",
          "text": [
            "87/87 [==============================] - 5s 55ms/step\n",
            "predictions shape: (2761, 2)\n",
            "y_test shape: (2761, 2)\n"
          ]
        },
        {
          "output_type": "execute_result",
          "data": {
            "text/plain": [
              "55.5267752693298"
            ]
          },
          "metadata": {},
          "execution_count": 19
        }
      ]
    },
    {
      "cell_type": "code",
      "metadata": {
        "id": "00Z0ok7BV8H2",
        "colab": {
          "base_uri": "https://localhost:8080/"
        },
        "outputId": "8b56e87d-2825-4aa5-ff16-76f0ccfa481a"
      },
      "source": [
        "predictions = model.predict(x_test)\n",
        "predictions = scaler.inverse_transform(predictions)\n",
        "rmse=np.sqrt(np.mean(((predictions- y_test)**2)))\n",
        "rmse"
      ],
      "execution_count": 37,
      "outputs": [
        {
          "output_type": "stream",
          "name": "stdout",
          "text": [
            "87/87 [==============================] - 7s 78ms/step\n"
          ]
        },
        {
          "output_type": "execute_result",
          "data": {
            "text/plain": [
              "989.6138599932962"
            ]
          },
          "metadata": {},
          "execution_count": 37
        }
      ]
    },
    {
      "cell_type": "code",
      "metadata": {
        "id": "L00XEuFwWHSH",
        "colab": {
          "base_uri": "https://localhost:8080/",
          "height": 247
        },
        "outputId": "858e1706-5ea4-43cb-d731-6f84cdfde065"
      },
      "source": [
        "#Plot/Create the data for the graph\n",
        "train = df_close[:data_len]\n",
        "valid = df_close[data_len:]\n",
        "valid['Predictions'] = predictions\n",
        "#Visualize the data\n",
        "plt.figure(figsize=(20,10))\n",
        "plt.title('Apple Inc Market Prediction')\n",
        "plt.xlabel('Date', fontsize=18)\n",
        "plt.ylabel('Close Price USD ($)', fontsize=18)\n",
        "plt.plot(train['Close'])\n",
        "plt.plot(valid[['Close', 'Predictions']])\n",
        "plt.legend(['Trained', 'Actual Value', 'Predicted Value'], loc='lower right')\n",
        "plt.show()"
      ],
      "execution_count": null,
      "outputs": [
        {
          "output_type": "error",
          "ename": "NameError",
          "evalue": "ignored",
          "traceback": [
            "\u001b[0;31m---------------------------------------------------------------------------\u001b[0m",
            "\u001b[0;31mNameError\u001b[0m                                 Traceback (most recent call last)",
            "\u001b[0;32m<ipython-input-94-03c117aa6817>\u001b[0m in \u001b[0;36m<cell line: 2>\u001b[0;34m()\u001b[0m\n\u001b[1;32m      1\u001b[0m \u001b[0;31m#Plot/Create the data for the graph\u001b[0m\u001b[0;34m\u001b[0m\u001b[0;34m\u001b[0m\u001b[0m\n\u001b[0;32m----> 2\u001b[0;31m \u001b[0mtrain\u001b[0m \u001b[0;34m=\u001b[0m \u001b[0mdf_close\u001b[0m\u001b[0;34m[\u001b[0m\u001b[0;34m:\u001b[0m\u001b[0mdata_len\u001b[0m\u001b[0;34m]\u001b[0m\u001b[0;34m\u001b[0m\u001b[0;34m\u001b[0m\u001b[0m\n\u001b[0m\u001b[1;32m      3\u001b[0m \u001b[0mvalid\u001b[0m \u001b[0;34m=\u001b[0m \u001b[0mdf_close\u001b[0m\u001b[0;34m[\u001b[0m\u001b[0mdata_len\u001b[0m\u001b[0;34m:\u001b[0m\u001b[0;34m]\u001b[0m\u001b[0;34m\u001b[0m\u001b[0;34m\u001b[0m\u001b[0m\n\u001b[1;32m      4\u001b[0m \u001b[0mvalid\u001b[0m\u001b[0;34m[\u001b[0m\u001b[0;34m'Predictions'\u001b[0m\u001b[0;34m]\u001b[0m \u001b[0;34m=\u001b[0m \u001b[0mpredictions\u001b[0m\u001b[0;34m\u001b[0m\u001b[0;34m\u001b[0m\u001b[0m\n\u001b[1;32m      5\u001b[0m \u001b[0;31m#Visualize the data\u001b[0m\u001b[0;34m\u001b[0m\u001b[0;34m\u001b[0m\u001b[0m\n",
            "\u001b[0;31mNameError\u001b[0m: name 'df_close' is not defined"
          ]
        }
      ]
    },
    {
      "cell_type": "code",
      "source": [
        "new_test = test[61]\n",
        "new_test = scaler.inverse_transform(new_test.reshape(-1, 2))\n",
        "new_test"
      ],
      "metadata": {
        "colab": {
          "base_uri": "https://localhost:8080/"
        },
        "id": "XW_yZgNknNJC",
        "outputId": "a7410e6e-284c-4821-c4fc-c9532c611708"
      },
      "execution_count": 57,
      "outputs": [
        {
          "output_type": "execute_result",
          "data": {
            "text/plain": [
              "array([[1496., 1217.]])"
            ]
          },
          "metadata": {},
          "execution_count": 57
        }
      ]
    },
    {
      "cell_type": "code",
      "source": [
        "new_test_data = test[:60]\n",
        "new_test_data = np.expand_dims(new_test_data, axis=0)\n",
        "new_test_data.shape"
      ],
      "metadata": {
        "colab": {
          "base_uri": "https://localhost:8080/"
        },
        "id": "wdZz4rKmnQPc",
        "outputId": "34c9cac7-95e5-419e-c0c2-701441ff5e1d"
      },
      "execution_count": 52,
      "outputs": [
        {
          "output_type": "execute_result",
          "data": {
            "text/plain": [
              "(1, 60, 2)"
            ]
          },
          "metadata": {},
          "execution_count": 52
        }
      ]
    },
    {
      "cell_type": "code",
      "source": [
        "predictions = model.predict(new_test_data)\n",
        "predictions = scaler.inverse_transform(predictions)\n",
        "predictions"
      ],
      "metadata": {
        "colab": {
          "base_uri": "https://localhost:8080/"
        },
        "id": "ERPSiT33ncWz",
        "outputId": "7ab679eb-d1e5-477d-800d-014b68ea1dee"
      },
      "execution_count": 58,
      "outputs": [
        {
          "output_type": "stream",
          "name": "stdout",
          "text": [
            "1/1 [==============================] - 0s 81ms/step\n"
          ]
        },
        {
          "output_type": "execute_result",
          "data": {
            "text/plain": [
              "array([[1493.1392, 1209.0747]], dtype=float32)"
            ]
          },
          "metadata": {},
          "execution_count": 58
        }
      ]
    },
    {
      "cell_type": "code",
      "metadata": {
        "id": "tWNElriuY27b",
        "colab": {
          "base_uri": "https://localhost:8080/",
          "height": 247
        },
        "outputId": "c8dbace2-6c0c-4925-e155-cef685e881bb"
      },
      "source": [
        "\n",
        "\n",
        "#Create a new dataframe\n",
        "new_test = test[61]\n",
        "#Get teh last 60 day closing price\n",
        "last_60_days = new_df[-60:].values\n",
        "#Scale the data to be values between 0 and 1\n",
        "last_60_days_scaled = scaler.transform(last_60_days)\n",
        "#Create an empty list\n",
        "X_test = []\n",
        "#Append teh past 60 days\n",
        "X_test.append(last_60_days_scaled)\n",
        "#Convert the X_test data set to a numpy array\n",
        "X_test = np.array(X_test)\n",
        "#Reshape the data\n",
        "X_test = np.reshape(X_test, (X_test.shape[0], X_test.shape[1], 1))\n",
        "#Get the predicted scaled price\n",
        "pred_price = model.predict(X_test)\n",
        "#undo the scaling\n",
        "pred_price = scaler.inverse_transform(pred_price)\n",
        "print(pred_price)"
      ],
      "execution_count": 25,
      "outputs": [
        {
          "output_type": "error",
          "ename": "NameError",
          "evalue": "ignored",
          "traceback": [
            "\u001b[0;31m---------------------------------------------------------------------------\u001b[0m",
            "\u001b[0;31mNameError\u001b[0m                                 Traceback (most recent call last)",
            "\u001b[0;32m<ipython-input-25-c2a49590aa4d>\u001b[0m in \u001b[0;36m<cell line: 4>\u001b[0;34m()\u001b[0m\n\u001b[1;32m      2\u001b[0m \u001b[0mnew_test\u001b[0m \u001b[0;34m=\u001b[0m \u001b[0mtest\u001b[0m\u001b[0;34m[\u001b[0m\u001b[0;36m61\u001b[0m\u001b[0;34m]\u001b[0m\u001b[0;34m\u001b[0m\u001b[0;34m\u001b[0m\u001b[0m\n\u001b[1;32m      3\u001b[0m \u001b[0;31m#Get teh last 60 day closing price\u001b[0m\u001b[0;34m\u001b[0m\u001b[0;34m\u001b[0m\u001b[0m\n\u001b[0;32m----> 4\u001b[0;31m \u001b[0mlast_60_days\u001b[0m \u001b[0;34m=\u001b[0m \u001b[0mnew_df\u001b[0m\u001b[0;34m[\u001b[0m\u001b[0;34m-\u001b[0m\u001b[0;36m60\u001b[0m\u001b[0;34m:\u001b[0m\u001b[0;34m]\u001b[0m\u001b[0;34m.\u001b[0m\u001b[0mvalues\u001b[0m\u001b[0;34m\u001b[0m\u001b[0;34m\u001b[0m\u001b[0m\n\u001b[0m\u001b[1;32m      5\u001b[0m \u001b[0;31m#Scale the data to be values between 0 and 1\u001b[0m\u001b[0;34m\u001b[0m\u001b[0;34m\u001b[0m\u001b[0m\n\u001b[1;32m      6\u001b[0m \u001b[0mlast_60_days_scaled\u001b[0m \u001b[0;34m=\u001b[0m \u001b[0mscaler\u001b[0m\u001b[0;34m.\u001b[0m\u001b[0mtransform\u001b[0m\u001b[0;34m(\u001b[0m\u001b[0mlast_60_days\u001b[0m\u001b[0;34m)\u001b[0m\u001b[0;34m\u001b[0m\u001b[0;34m\u001b[0m\u001b[0m\n",
            "\u001b[0;31mNameError\u001b[0m: name 'new_df' is not defined"
          ]
        }
      ]
    },
    {
      "cell_type": "code",
      "metadata": {
        "id": "N9gy15wCZSCZ",
        "colab": {
          "base_uri": "https://localhost:8080/",
          "height": 69
        },
        "outputId": "c18198c5-dfeb-43f6-d549-d8590f961acf"
      },
      "source": [
        "apple_quote2 = rd.DataReader('AAPL', data_source='yahoo',start = '2020-05-23',end='2020-05-23')\n",
        "apple_quote2['Close']"
      ],
      "execution_count": null,
      "outputs": [
        {
          "output_type": "execute_result",
          "data": {
            "text/plain": [
              "Date\n",
              "2020-05-22    318.890015\n",
              "Name: Close, dtype: float64"
            ]
          },
          "metadata": {
            "tags": []
          },
          "execution_count": 48
        }
      ]
    },
    {
      "cell_type": "code",
      "metadata": {
        "id": "9_68uyTjsgqa",
        "colab": {
          "base_uri": "https://localhost:8080/"
        },
        "outputId": "ac84e86b-25b3-498c-bebf-459498a59d3f"
      },
      "source": [
        "!mkdir -p saved_model\n",
        "model.save('mouseNatural.h5')"
      ],
      "execution_count": 24,
      "outputs": [
        {
          "output_type": "stream",
          "name": "stderr",
          "text": [
            "/usr/local/lib/python3.10/dist-packages/keras/src/engine/training.py:3103: UserWarning: You are saving your model as an HDF5 file via `model.save()`. This file format is considered legacy. We recommend using instead the native Keras format, e.g. `model.save('my_model.keras')`.\n",
            "  saving_api.save_model(\n"
          ]
        }
      ]
    }
  ]
}