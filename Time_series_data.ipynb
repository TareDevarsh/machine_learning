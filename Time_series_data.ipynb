{
  "nbformat": 4,
  "nbformat_minor": 0,
  "metadata": {
    "colab": {
      "name": "Time_series_data.ipynb",
      "provenance": [],
      "authorship_tag": "ABX9TyOIRlqitZSs1UDQBTcWfiWR",
      "include_colab_link": true
    },
    "kernelspec": {
      "name": "python3",
      "display_name": "Python 3"
    }
  },
  "cells": [
    {
      "cell_type": "markdown",
      "metadata": {
        "id": "view-in-github",
        "colab_type": "text"
      },
      "source": [
        "<a href=\"https://colab.research.google.com/github/TareDevarsh/machine_learning/blob/master/Time_series_data.ipynb\" target=\"_parent\"><img src=\"https://colab.research.google.com/assets/colab-badge.svg\" alt=\"Open In Colab\"/></a>"
      ]
    },
    {
      "cell_type": "code",
      "metadata": {
        "id": "0kJsENCdZ1CV",
        "colab_type": "code",
        "colab": {
          "base_uri": "https://localhost:8080/",
          "height": 50
        },
        "outputId": "dcfc9eca-3ecb-44e4-e10b-086673b29197"
      },
      "source": [
        "\n",
        "import numpy as np\n",
        "import tensorflow as tf\n",
        "from tensorflow import keras\n",
        "import pandas as pd\n",
        "import seaborn as sns\n",
        "from pylab import rcParams\n",
        "import matplotlib.pyplot as plt\n",
        "from matplotlib import rc\n",
        "\n",
        "%matplotlib inline\n",
        "%config InlineBackend.figure_format='retina'\n",
        "\n",
        "sns.set(style='whitegrid', palette='muted', font_scale=1.5)\n",
        "\n",
        "rcParams['figure.figsize'] = 16, 10\n",
        "\n",
        "RANDOM_SEED = 42\n",
        "\n",
        "np.random.seed(RANDOM_SEED)\n",
        "tf.random.set_seed(RANDOM_SEED)"
      ],
      "execution_count": 1,
      "outputs": [
        {
          "output_type": "stream",
          "text": [
            "/usr/local/lib/python3.6/dist-packages/statsmodels/tools/_testing.py:19: FutureWarning: pandas.util.testing is deprecated. Use the functions in the public API at pandas.testing instead.\n",
            "  import pandas.util.testing as tm\n"
          ],
          "name": "stderr"
        }
      ]
    },
    {
      "cell_type": "code",
      "metadata": {
        "id": "Vc_bo2r2aG88",
        "colab_type": "code",
        "colab": {}
      },
      "source": [
        "time = np.arange(0, 100, 0.1)\n",
        "sin = np.sin(time) + np.random.normal(scale=0.5, size=len(time))"
      ],
      "execution_count": 0,
      "outputs": []
    },
    {
      "cell_type": "code",
      "metadata": {
        "id": "wGe6YK9yaJ8R",
        "colab_type": "code",
        "colab": {
          "base_uri": "https://localhost:8080/",
          "height": 33
        },
        "outputId": "cc301089-c3de-4beb-a219-4b8cf06d6386"
      },
      "source": [
        "\n",
        "df = pd.DataFrame(dict(sine=sin), index=time, columns=['sine'])\n",
        "\n",
        "train_size = int(len(df) * 0.8)\n",
        "test_size = len(df) - train_size\n",
        "train, test = df.iloc[0:train_size], df.iloc[train_size:len(df)]\n",
        "print(len(train), len(test))"
      ],
      "execution_count": 3,
      "outputs": [
        {
          "output_type": "stream",
          "text": [
            "800 200\n"
          ],
          "name": "stdout"
        }
      ]
    },
    {
      "cell_type": "code",
      "metadata": {
        "id": "2tcJUFqPadgG",
        "colab_type": "code",
        "colab": {}
      },
      "source": [
        "def create_dataset(X, y, time_steps=1):\n",
        "    Xs, ys = [], []\n",
        "    for i in range(len(X) - time_steps):\n",
        "        v = X.iloc[i:(i + time_steps)].values\n",
        "        Xs.append(v)\n",
        "        ys.append(y.iloc[i + time_steps])\n",
        "    return np.array(Xs), np.array(ys)"
      ],
      "execution_count": 0,
      "outputs": []
    },
    {
      "cell_type": "code",
      "metadata": {
        "id": "HZwHtZebaogp",
        "colab_type": "code",
        "colab": {
          "base_uri": "https://localhost:8080/",
          "height": 33
        },
        "outputId": "1de4c2fb-9880-4e75-dffb-1798a1f083a0"
      },
      "source": [
        "time_steps = 10\n",
        "\n",
        "# reshape to [samples, time_steps, n_features]\n",
        "\n",
        "X_train, y_train = create_dataset(train, train.sine, time_steps)\n",
        "X_test, y_test = create_dataset(test, test.sine, time_steps)\n",
        "\n",
        "print(X_train.shape, y_train.shape)"
      ],
      "execution_count": 5,
      "outputs": [
        {
          "output_type": "stream",
          "text": [
            "(790, 10, 1) (790,)\n"
          ],
          "name": "stdout"
        }
      ]
    },
    {
      "cell_type": "code",
      "metadata": {
        "id": "Yv2h-NADas3j",
        "colab_type": "code",
        "colab": {}
      },
      "source": [
        "model = keras.Sequential()\n",
        "model.add(keras.layers.LSTM(\n",
        "  units=128,\n",
        "  input_shape=(X_train.shape[1], X_train.shape[2])\n",
        "))\n",
        "model.add(keras.layers.Dense(units=1))\n",
        "model.compile(\n",
        "  loss='mean_squared_error',\n",
        "  optimizer=keras.optimizers.Adam(0.001)\n",
        ")"
      ],
      "execution_count": 0,
      "outputs": []
    },
    {
      "cell_type": "code",
      "metadata": {
        "id": "wJiEHEPMa6Qg",
        "colab_type": "code",
        "colab": {
          "base_uri": "https://localhost:8080/",
          "height": 1000
        },
        "outputId": "09bfa694-724f-45c7-f324-927d83eb6985"
      },
      "source": [
        "history = model.fit(\n",
        "    X_train, y_train,\n",
        "    epochs=40,\n",
        "    batch_size=16,\n",
        "    validation_split=0.1,\n",
        "    verbose=1,\n",
        "    shuffle=False\n",
        ")"
      ],
      "execution_count": 7,
      "outputs": [
        {
          "output_type": "stream",
          "text": [
            "Epoch 1/40\n",
            "45/45 [==============================] - 1s 17ms/step - loss: 0.4394 - val_loss: 0.3740\n",
            "Epoch 2/40\n",
            "45/45 [==============================] - 0s 7ms/step - loss: 0.3324 - val_loss: 0.3310\n",
            "Epoch 3/40\n",
            "45/45 [==============================] - 0s 7ms/step - loss: 0.3219 - val_loss: 0.3254\n",
            "Epoch 4/40\n",
            "45/45 [==============================] - 0s 7ms/step - loss: 0.3199 - val_loss: 0.3217\n",
            "Epoch 5/40\n",
            "45/45 [==============================] - 0s 7ms/step - loss: 0.3184 - val_loss: 0.3191\n",
            "Epoch 6/40\n",
            "45/45 [==============================] - 0s 7ms/step - loss: 0.3173 - val_loss: 0.3171\n",
            "Epoch 7/40\n",
            "45/45 [==============================] - 0s 7ms/step - loss: 0.3165 - val_loss: 0.3154\n",
            "Epoch 8/40\n",
            "45/45 [==============================] - 0s 7ms/step - loss: 0.3157 - val_loss: 0.3140\n",
            "Epoch 9/40\n",
            "45/45 [==============================] - 0s 7ms/step - loss: 0.3150 - val_loss: 0.3126\n",
            "Epoch 10/40\n",
            "45/45 [==============================] - 0s 7ms/step - loss: 0.3144 - val_loss: 0.3113\n",
            "Epoch 11/40\n",
            "45/45 [==============================] - 0s 7ms/step - loss: 0.3137 - val_loss: 0.3100\n",
            "Epoch 12/40\n",
            "45/45 [==============================] - 0s 7ms/step - loss: 0.3130 - val_loss: 0.3088\n",
            "Epoch 13/40\n",
            "45/45 [==============================] - 0s 7ms/step - loss: 0.3123 - val_loss: 0.3078\n",
            "Epoch 14/40\n",
            "45/45 [==============================] - 0s 7ms/step - loss: 0.3117 - val_loss: 0.3071\n",
            "Epoch 15/40\n",
            "45/45 [==============================] - 0s 7ms/step - loss: 0.3112 - val_loss: 0.3064\n",
            "Epoch 16/40\n",
            "45/45 [==============================] - 0s 7ms/step - loss: 0.3108 - val_loss: 0.3059\n",
            "Epoch 17/40\n",
            "45/45 [==============================] - 0s 7ms/step - loss: 0.3105 - val_loss: 0.3056\n",
            "Epoch 18/40\n",
            "45/45 [==============================] - 0s 7ms/step - loss: 0.3103 - val_loss: 0.3054\n",
            "Epoch 19/40\n",
            "45/45 [==============================] - 0s 7ms/step - loss: 0.3101 - val_loss: 0.3055\n",
            "Epoch 20/40\n",
            "45/45 [==============================] - 0s 7ms/step - loss: 0.3099 - val_loss: 0.3056\n",
            "Epoch 21/40\n",
            "45/45 [==============================] - 0s 7ms/step - loss: 0.3097 - val_loss: 0.3057\n",
            "Epoch 22/40\n",
            "45/45 [==============================] - 0s 7ms/step - loss: 0.3094 - val_loss: 0.3058\n",
            "Epoch 23/40\n",
            "45/45 [==============================] - 0s 7ms/step - loss: 0.3091 - val_loss: 0.3059\n",
            "Epoch 24/40\n",
            "45/45 [==============================] - 0s 7ms/step - loss: 0.3089 - val_loss: 0.3061\n",
            "Epoch 25/40\n",
            "45/45 [==============================] - 0s 7ms/step - loss: 0.3086 - val_loss: 0.3062\n",
            "Epoch 26/40\n",
            "45/45 [==============================] - 0s 8ms/step - loss: 0.3084 - val_loss: 0.3064\n",
            "Epoch 27/40\n",
            "45/45 [==============================] - 0s 7ms/step - loss: 0.3082 - val_loss: 0.3066\n",
            "Epoch 28/40\n",
            "45/45 [==============================] - 0s 7ms/step - loss: 0.3079 - val_loss: 0.3069\n",
            "Epoch 29/40\n",
            "45/45 [==============================] - 0s 7ms/step - loss: 0.3077 - val_loss: 0.3071\n",
            "Epoch 30/40\n",
            "45/45 [==============================] - 0s 7ms/step - loss: 0.3075 - val_loss: 0.3075\n",
            "Epoch 31/40\n",
            "45/45 [==============================] - 0s 7ms/step - loss: 0.3072 - val_loss: 0.3078\n",
            "Epoch 32/40\n",
            "45/45 [==============================] - 0s 7ms/step - loss: 0.3069 - val_loss: 0.3083\n",
            "Epoch 33/40\n",
            "45/45 [==============================] - 0s 7ms/step - loss: 0.3066 - val_loss: 0.3088\n",
            "Epoch 34/40\n",
            "45/45 [==============================] - 0s 7ms/step - loss: 0.3063 - val_loss: 0.3093\n",
            "Epoch 35/40\n",
            "45/45 [==============================] - 0s 7ms/step - loss: 0.3059 - val_loss: 0.3099\n",
            "Epoch 36/40\n",
            "45/45 [==============================] - 0s 8ms/step - loss: 0.3054 - val_loss: 0.3105\n",
            "Epoch 37/40\n",
            "45/45 [==============================] - 0s 7ms/step - loss: 0.3048 - val_loss: 0.3110\n",
            "Epoch 38/40\n",
            "45/45 [==============================] - 0s 7ms/step - loss: 0.3042 - val_loss: 0.3111\n",
            "Epoch 39/40\n",
            "45/45 [==============================] - 0s 7ms/step - loss: 0.3035 - val_loss: 0.3110\n",
            "Epoch 40/40\n",
            "45/45 [==============================] - 0s 7ms/step - loss: 0.3028 - val_loss: 0.3109\n"
          ],
          "name": "stdout"
        }
      ]
    },
    {
      "cell_type": "code",
      "metadata": {
        "id": "7xd3JHbra-Od",
        "colab_type": "code",
        "colab": {
          "base_uri": "https://localhost:8080/",
          "height": 33
        },
        "outputId": "24a6e33a-4371-438e-d9b9-550d35478009"
      },
      "source": [
        "y_pred = model.predict(X_test)\n",
        "print(y_pred[0])"
      ],
      "execution_count": 8,
      "outputs": [
        {
          "output_type": "stream",
          "text": [
            "[-0.7011296]\n"
          ],
          "name": "stdout"
        }
      ]
    },
    {
      "cell_type": "code",
      "metadata": {
        "id": "rlpUSaWibHsO",
        "colab_type": "code",
        "colab": {}
      },
      "source": [
        ""
      ],
      "execution_count": 0,
      "outputs": []
    }
  ]
}